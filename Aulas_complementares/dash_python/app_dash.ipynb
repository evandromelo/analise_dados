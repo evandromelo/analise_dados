{
 "cells": [
  {
   "cell_type": "code",
   "execution_count": 4,
   "id": "43725d7f",
   "metadata": {},
   "outputs": [
    {
     "data": {
      "text/html": [
       "\n",
       "        <iframe\n",
       "            width=\"100%\"\n",
       "            height=\"650\"\n",
       "            src=\"http://127.0.0.1:8050/\"\n",
       "            frameborder=\"0\"\n",
       "            allowfullscreen\n",
       "            \n",
       "        ></iframe>\n",
       "        "
      ],
      "text/plain": [
       "<IPython.lib.display.IFrame at 0x1e978961e00>"
      ]
     },
     "metadata": {},
     "output_type": "display_data"
    }
   ],
   "source": [
    "import dash\n",
    "from dash import dcc, html\n",
    "from dash.dependencies import Input, Output\n",
    "\n",
    "# Inicializa a aplicação Dash\n",
    "app = dash.Dash(__name__)\n",
    "\n",
    "# Define o layout da aplicação\n",
    "app.layout = html.Div([\n",
    "    dcc.Input(id='input-text', value='Digite algo aqui', type='text'),\n",
    "    html.Div(id='output-text')\n",
    "])\n",
    "\n",
    "# Define o callback para atualizar o texto de saída com base na entrada do usuário\n",
    "@app.callback(\n",
    "    Output(component_id='output-text', component_property='children'),\n",
    "    [Input(component_id='input-text', component_property='value')]\n",
    ")\n",
    "def update_output_div(input_value):\n",
    "    return f'Você digitou: {input_value}'\n",
    "\n",
    "# Executa a aplicação\n",
    "if __name__ == '__main__':\n",
    "    app.run(debug=True)"
   ]
  }
 ],
 "metadata": {
  "kernelspec": {
   "display_name": "Python 3",
   "language": "python",
   "name": "python3"
  },
  "language_info": {
   "codemirror_mode": {
    "name": "ipython",
    "version": 3
   },
   "file_extension": ".py",
   "mimetype": "text/x-python",
   "name": "python",
   "nbconvert_exporter": "python",
   "pygments_lexer": "ipython3",
   "version": "3.13.4"
  }
 },
 "nbformat": 4,
 "nbformat_minor": 5
}
