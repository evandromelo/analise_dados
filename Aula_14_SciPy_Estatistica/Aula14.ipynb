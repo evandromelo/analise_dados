{
 "cells": [
  {
   "cell_type": "markdown",
   "id": "f5525871",
   "metadata": {},
   "source": [
    "#🧪 Aula: Estatística com SciPy – t-test, ANOVA e Correlação#"
   ]
  },
  {
   "cell_type": "code",
   "execution_count": 1,
   "id": "fbe3af8e",
   "metadata": {},
   "outputs": [
    {
     "name": "stdout",
     "output_type": "stream",
     "text": [
      "T-TEST\n",
      "Estatística t: 4.8048\n",
      "P-valor: 0.0003\n",
      "Conclusão: Há diferença significativa entre as variedades (p < 0.05)\n",
      "\n",
      "ANOVA\n",
      "Estatística F: 21.8140\n",
      "P-valor: 0.0001\n",
      "Conclusão: Há diferença significativa entre os tipos de adubo (p < 0.05)\n",
      "\n",
      "CORRELAÇÃO PEARSON\n",
      "Coeficiente de correlação (r): 0.9669\n",
      "P-valor: 0.0001\n",
      "Conclusão: Correlação é estatisticamente significativa (p < 0.05)\n",
      "\n",
      "CORRELAÇÃO SPEARMAN\n",
      "Coeficiente de correlação (rho): 0.9762\n",
      "P-valor: 0.0000\n"
     ]
    },
    {
     "data": {
      "image/png": "[encoded data removed]",
      "text/plain": [
       "<Figure size 800x500 with 1 Axes>"
      ]
     },
     "metadata": {},
     "output_type": "display_data"
    },
    {
     "name": "stdout",
     "output_type": "stream",
     "text": [
      "\n",
      "RESUMO:\n",
      "1. t-test: compara médias de 2 grupos\n",
      "2. ANOVA: compara médias de 3+ grupos\n",
      "3. Correlação: mede relação entre 2 variáveis contínuas\n"
     ]
    }
   ],
   "source": [
    "# Importando bibliotecas necessárias\n",
    "import numpy as np\n",
    "import pandas as pd\n",
    "from scipy import stats\n",
    "import matplotlib.pyplot as plt\n",
    "\n",
    "# =============================================================================\n",
    "# PARTE 1: T-TEST (teste t de Student)\n",
    "# =============================================================================\n",
    "# Utilizado para comparar as médias de duas amostras independentes\n",
    "# Exemplo: Comparar a produtividade média de duas variedades de milho\n",
    "\n",
    "# Dados simulados de produtividade (em toneladas/ha)\n",
    "variedade_a = [6.2, 6.4, 6.1, 6.3, 6.0, 6.5, 6.2, 6.4]\n",
    "variedade_b = [5.8, 5.9, 6.0, 5.7, 6.1, 5.8, 5.9, 6.0]\n",
    "\n",
    "# Teste t para duas amostras independentes\n",
    "t_stat, p_valor = stats.ttest_ind(variedade_a, variedade_b)\n",
    "\n",
    "print(\"T-TEST\")\n",
    "print(f\"Estatística t: {t_stat:.4f}\")\n",
    "print(f\"P-valor: {p_valor:.4f}\")\n",
    "\n",
    "if p_valor < 0.05:\n",
    "    print(\"Conclusão: Há diferença significativa entre as variedades (p < 0.05)\\n\")\n",
    "else:\n",
    "    print(\"Conclusão: Não há diferença significativa entre as variedades (p >= 0.05)\\n\")\n",
    "\n",
    "# =============================================================================\n",
    "# PARTE 2: ANOVA (Análise de Variância)\n",
    "# =============================================================================\n",
    "# Utilizado para comparar as médias de mais de duas amostras\n",
    "# Exemplo: Comparar a produtividade de 3 tipos de adubo\n",
    "\n",
    "adubo_tipo1 = [6.0, 6.1, 6.2, 6.3, 6.0]\n",
    "adubo_tipo2 = [5.8, 5.9, 6.0, 5.7, 5.9]\n",
    "adubo_tipo3 = [6.3, 6.4, 6.5, 6.2, 6.4]\n",
    "\n",
    "# Realizando ANOVA (F-test)\n",
    "f_stat, p_valor_anova = stats.f_oneway(adubo_tipo1, adubo_tipo2, adubo_tipo3)\n",
    "\n",
    "print(\"ANOVA\")\n",
    "print(f\"Estatística F: {f_stat:.4f}\")\n",
    "print(f\"P-valor: {p_valor_anova:.4f}\")\n",
    "\n",
    "if p_valor_anova < 0.05:\n",
    "    print(\"Conclusão: Há diferença significativa entre os tipos de adubo (p < 0.05)\\n\")\n",
    "else:\n",
    "    print(\"Conclusão: Não há diferença significativa entre os tipos de adubo (p >= 0.05)\\n\")\n",
    "\n",
    "# =============================================================================\n",
    "# PARTE 3: CORRELAÇÃO (Pearson e Spearman)\n",
    "# =============================================================================\n",
    "# Correlação mede a força e direção entre duas variáveis\n",
    "# Exemplo: correlação entre pH do solo e produtividade\n",
    "\n",
    "pH_solo = [5.8, 6.0, 6.2, 6.1, 6.3, 6.4, 6.5, 6.6]\n",
    "produtividade = [5.2, 5.6, 5.8, 5.9, 6.0, 6.1, 6.2, 6.3]\n",
    "\n",
    "# Correlação de Pearson (linear)\n",
    "r_pearson, p_valor_pearson = stats.pearsonr(pH_solo, produtividade)\n",
    "\n",
    "print(\"CORRELAÇÃO PEARSON\")\n",
    "print(f\"Coeficiente de correlação (r): {r_pearson:.4f}\")\n",
    "print(f\"P-valor: {p_valor_pearson:.4f}\")\n",
    "\n",
    "if p_valor_pearson < 0.05:\n",
    "    print(\"Conclusão: Correlação é estatisticamente significativa (p < 0.05)\")\n",
    "else:\n",
    "    print(\"Conclusão: Correlação NÃO é estatisticamente significativa (p >= 0.05)\")\n",
    "\n",
    "# Correlação de Spearman (monotônica)\n",
    "r_spearman, p_valor_spearman = stats.spearmanr(pH_solo, produtividade)\n",
    "\n",
    "print(\"\\nCORRELAÇÃO SPEARMAN\")\n",
    "print(f\"Coeficiente de correlação (rho): {r_spearman:.4f}\")\n",
    "print(f\"P-valor: {p_valor_spearman:.4f}\")\n",
    "\n",
    "# Visualização\n",
    "plt.figure(figsize=(8, 5))\n",
    "plt.scatter(pH_solo, produtividade, color='green', label='Dados')\n",
    "plt.title('Correlação entre pH do Solo e Produtividade')\n",
    "plt.xlabel('pH do Solo')\n",
    "plt.ylabel('Produtividade (t/ha)')\n",
    "plt.legend()\n",
    "plt.grid(True)\n",
    "plt.show()\n",
    "\n",
    "# =============================================================================\n",
    "# RESUMO\n",
    "# =============================================================================\n",
    "print(\"\\nRESUMO:\")\n",
    "print(\"1. t-test: compara médias de 2 grupos\")\n",
    "print(\"2. ANOVA: compara médias de 3+ grupos\")\n",
    "print(\"3. Correlação: mede relação entre 2 variáveis contínuas\")"
   ]
  },
  {
   "cell_type": "markdown",
   "id": "355f9da6",
   "metadata": {},
   "source": [
    "**📚 Explicação Breve dos Conceitos:**\n",
    "\n",
    "**t-test:** Verifica se há diferença significativa entre duas médias.\n",
    "\n",
    "**ANOVA:** Verifica se há diferença significativa entre três ou mais médias.\n",
    "\n",
    "**Correlação:** Mede a relação linear (Pearson) ou monotônica (Spearman) entre duas variáveis."
   ]
  }
 ],
 "metadata": {
  "kernelspec": {
   "display_name": "Python 3",
   "language": "python",
   "name": "python3"
  },
  "language_info": {
   "codemirror_mode": {
    "name": "ipython",
    "version": 3
   },
   "file_extension": ".py",
   "mimetype": "text/x-python",
   "name": "python",
   "nbconvert_exporter": "python",
   "pygments_lexer": "ipython3",
   "version": "3.13.4"
  }
 },
 "nbformat": 4,
 "nbformat_minor": 5
}
