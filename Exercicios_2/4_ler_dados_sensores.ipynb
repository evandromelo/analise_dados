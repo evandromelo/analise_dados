{
 "cells": [
  {
   "cell_type": "markdown",
   "id": "c2d11b63",
   "metadata": {},
   "source": [
    "Script completo para simular e processar os dados do experimento  \n",
    "de secagem de milho, realizado em secador de laboratório\n",
    "\n",
    "*O script pode:*  \n",
    "Simular os dados dos sensores  \n",
    "Salvar em CSV  \n",
    "Ler o arquivo CSV  \n",
    "Converter para Excel  \n",
    "Gerar gráficos das variáveis"
   ]
  },
  {
   "cell_type": "markdown",
   "id": "12cc55f1",
   "metadata": {},
   "source": [
    "O que o script faz:\n",
    "\n",
    "Simula dados realistas de sensores do raspberry com:\n",
    "\n",
    "Temperatura ambiente (25-31°C)\n",
    "Umidade relativa ambiente (80-75%)\n",
    "Temperatura de secagem (60°C constante)\n",
    "Temperatura de saída (valores intermediários)\n",
    "Umidade relativa de saída (aumenta com o tempo)\n",
    "\n",
    "\n",
    "Registros a cada 15 minutos durante 6 horas (25 registros)\n",
    "Salva em CSV com o nome dados_sec_milho_30_09_25.csv\n",
    "Lê o arquivo CSV e mostra informações estatísticas\n",
    "Converte para Excel formatado (dados_sec_milho_30_09_25.xlsx)\n",
    "Gera gráficos com todas as variáveis em dois painéis:\n",
    "\n",
    "Temperaturas (ambiente, secagem e saída)\n",
    "Umidades relativas (ambiente e saída)"
   ]
  }
 ],
 "metadata": {
  "kernelspec": {
   "display_name": "Python 3",
   "language": "python",
   "name": "python3"
  },
  "language_info": {
   "name": "python",
   "version": "3.13.4"
  }
 },
 "nbformat": 4,
 "nbformat_minor": 5
}
